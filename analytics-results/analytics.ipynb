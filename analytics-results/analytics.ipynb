{
 "cells": [
  {
   "cell_type": "markdown",
   "metadata": {},
   "source": [
    "# Analytics - Product Quality"
   ]
  },
  {
   "cell_type": "markdown",
   "metadata": {},
   "source": [
    "#### Date: 2020/02\n",
    "\n",
    "#### SUMMARY:\n",
    "\n",
    "- De acordo com os dados compilados abaixo, podemos perceber que:\n",
    "  - O microsserviço de backend que apresenta o pior indicador de manutenibilidade é o FishLogs. Isso se deve ao fato dele ter sido o serviço mais alterado este semestre. E como não houveram novos testes, e tiveram novas linhas de código para ser testadas, sua manutenibilidade foi afetada.\n",
    "  - O serviço com a pior confiabilidade foi o UserInterface. Este é o serviço com a qualidade mais afetada do projeto. Ele é um aplicativo React Native que tem seu compilador o Expo. Por conta disso a aplicação muitas vezes não conseguia ser buildada para testes, não era possível sua automatização de pipeline com apk's e a aplicação se mantia pesada. A aplicação por si está pesada, com estados internos mal geridos e confusa no código.\n",
    "  - Tirando a Aplicação mobile, a qualidade do projeto se encontra satisfatória. Mais testes são necessários e métricas como test_errors e test_failures devem ser exportadas a partir dos próximos builds.\n",
    "  - O time EuPescador 2022/1 fortemente aconselha futuros alunos que trabalharão nesta aplicação tirarem um tempo considerável para refazer a aplicação mobile ou ao menos retirar o expo e melhorar seu código."
   ]
  },
  {
   "cell_type": "markdown",
   "metadata": {},
   "source": [
    "### TEAM: EUPESCADOR\n",
    "\n",
    "##### Semester: 2022/01\n",
    "##### Professor: Hilmer Neri\n",
    "\n",
    "##### Members:\n",
    "\n",
    "- André Aben-Athar de Freitas\n",
    "- Lucas Ganda Carvalho\n",
    "- Ailamar Alves\n",
    "- Joao Gabriel A\n"
   ]
  },
  {
   "cell_type": "markdown",
   "metadata": {},
   "source": [
    "### LIBRARIES"
   ]
  },
  {
   "cell_type": "code",
   "execution_count": 55,
   "metadata": {},
   "outputs": [],
   "source": [
    "# Deal with data\n",
    "import pandas as pd\n",
    "import json\n",
    "from glob import glob\n",
    "import os\n",
    "import re\n",
    "\n",
    "# Deal with visualization\n",
    "import matplotlib.pyplot as plt\n",
    "\n",
    "# Deal with time\n",
    "import datetime"
   ]
  },
  {
   "cell_type": "markdown",
   "metadata": {},
   "source": [
    "### GRAPH SETTINGS"
   ]
  },
  {
   "cell_type": "code",
   "execution_count": 56,
   "metadata": {
    "pycharm": {
     "name": "#%%\n"
    }
   },
   "outputs": [
    {
     "data": {
      "text/plain": [
       "<Figure size 1440x720 with 0 Axes>"
      ]
     },
     "metadata": {},
     "output_type": "display_data"
    }
   ],
   "source": [
    "fig = plt.figure(figsize=(20, 10))"
   ]
  },
  {
   "cell_type": "markdown",
   "metadata": {},
   "source": [
    "### DATAFRAME SETTINGS"
   ]
  },
  {
   "cell_type": "code",
   "execution_count": 57,
   "metadata": {},
   "outputs": [],
   "source": [
    "pd.set_option(\"display.max_rows\", None, \"display.max_columns\", None)"
   ]
  },
  {
   "cell_type": "markdown",
   "metadata": {},
   "source": [
    "#### Replace your semester, project name, repository name, and the programming language extension"
   ]
  },
  {
   "cell_type": "code",
   "execution_count": 58,
   "metadata": {
    "pycharm": {
     "name": "#%%\n"
    }
   },
   "outputs": [],
   "source": [
    "language = [['fga-eps-mds-2022.1-EuPescador-UserInterface', 'ts'],\n",
    "            ['fga-eps-mds-2022.1-EuPescador-FishLog', 'ts'],\n",
    "            ['fga-eps-mds-2022.1-EuPescador-Web', 'ts'],\n",
    "            ['fga-eps-mds-2022.1-EuPescador-User', 'ts'],\n",
    "            ['fga-eps-mds-2022.1-EuPescador-FishWiki', 'ts'],\n",
    "           ]\n",
    "\n",
    "repos_language = {}\n",
    "\n",
    "for item in language:\n",
    "    repos_language[f\"{item[0]}\"] = item[1]"
   ]
  },
  {
   "cell_type": "markdown",
   "metadata": {},
   "source": [
    "### SonarCloud"
   ]
  },
  {
   "cell_type": "markdown",
   "metadata": {},
   "source": [
    "##### Path to the folder with all your jsons"
   ]
  },
  {
   "cell_type": "code",
   "execution_count": 59,
   "metadata": {},
   "outputs": [
    {
     "name": "stdout",
     "output_type": "stream",
     "text": [
      "['./documents/fga-eps-mds-2022.1-EuPescador-FishWiki-07-31-2022-22:33:04-v1.2.0.json', './documents/fga-eps-mds-2022.1-EuPescador-Web-09-09-2022-16:24:07-main.json', './documents/fga-eps-mds-2022.1-EuPescador-Web-09-18-2022-16:03:36-main.json', './documents/fga-eps-mds-2022.1-EuPescador-UserInterface-09-02-2022-12:37:50-devel.json', './documents/fga-eps-mds-2022.1-EuPescador-Web-09-17-2022-03:02:59-main.json', './documents/fga-eps-mds-2022.1-EuPescador-FishLog-07-31-2022-22:25:11-v2.3.0.json', './documents/fga-eps-mds-2022.1-EuPescador-Web-09-14-2022-09:39:26-main.json', './documents/fga-eps-mds-2022.1-EuPescador-UserInterface-09-18-2022-01:53:44-devel.json', './documents/fga-eps-mds-2022.1-EuPescador-Web-09-13-2022-14:38:38-main.json', './documents/fga-eps-mds-2022.1-EuPescador-Web-09-17-2022-09:44:30-v1.6.0.json', './documents/fga-eps-mds-2022.1-EuPescador-Web-09-18-2022-12:11:47-main.json', './documents/fga-eps-mds-2022.1-EuPescador-Web-09-14-2022-14:59:56-main.json', './documents/fga-eps-mds-2022.1-EuPescador-User-07-31-2022-22:16:19-v2.4.1.json', './documents/fga-eps-mds-2022.1-EuPescador-UserInterface-09-02-2022-18:52:24-devel.json', './documents/fga-eps-mds-2022.1-EuPescador-Web-09-17-2022-19:42:14-main.json', './documents/fga-eps-mds-2022.1-EuPescador-Web-08-24-2022-22:31:12-v1.2.0.json', './documents/fga-eps-mds-2022.1-EuPescador-Web-09-18-2022-16:34:14-main.json', './documents/fga-eps-mds-2022.1-EuPescador-Web-09-19-2022-00:10:03-main.json', './documents/fga-eps-mds-2022.1-EuPescador-Web-08-26-2022-12:23:10-v1.3.0.json', './documents/fga-eps-mds-2022.1-EuPescador-UserInterface-09-09-2022-16:47:41-v2.3.0.json', './documents/fga-eps-mds-2022.1-EuPescador-UserInterface-08-26-2022-16:45:13-v2.2.0.json', './documents/fga-eps-mds-2022.1-EuPescador-Web-09-18-2022-14:26:43-main.json', './documents/fga-eps-mds-2022.1-EuPescador-UserInterface-09-09-2022-16:24:42-devel.json', './documents/fga-eps-mds-2022.1-EuPescador-Web-08-26-2022-12:14:21-main.json', './documents/fga-eps-mds-2022.1-EuPescador-Web-08-26-2022-09:57:27-main.json', './documents/fga-eps-mds-2022.1-EuPescador-UserInterface-09-17-2022-02:44:42-devel.json', './documents/fga-eps-mds-2022.1-EuPescador-Web-09-16-2022-22:53:50-main.json', './documents/fga-eps-mds-2022.1-EuPescador-Web-09-14-2022-15:07:05-v1.5.0.json', './documents/fga-eps-mds-2022.1-EuPescador-Web-09-13-2022-17:16:02-main.json', './documents/fga-eps-mds-2022.1-EuPescador-Web-09-09-2022-11:41:49-main.json', './documents/fga-eps-mds-2022.1-EuPescador-UserInterface-07-31-2022-22:41:52-v2.1.0.json', './documents/fga-eps-mds-2022.1-EuPescador-Web-09-09-2022-12:57:41-main.json', './documents/fga-eps-mds-2022.1-EuPescador-Web-09-09-2022-16:41:10-v1.4.0.json', './documents/fga-eps-mds-2022.1-EuPescador-FishLog-08-26-2022-12:17:42-v2.4.0.json', './documents/fga-eps-mds-2022.1-EuPescador-UserInterface-08-26-2022-16:02:04-devel.json', './documents/fga-eps-mds-2022.1-EuPescador-UserInterface-09-09-2022-16:24:32-devel.json']\n"
     ]
    }
   ],
   "source": [
    "jsons = glob('./documents/*.json') # add your path here\n",
    "print(jsons)"
   ]
  },
  {
   "cell_type": "code",
   "execution_count": 60,
   "metadata": {},
   "outputs": [],
   "source": [
    "def read_json(json_path):\n",
    "    \n",
    "    with open(json_path) as json_file:\n",
    "        json_obj = json.load(json_file)\n",
    "        \n",
    "    return json_obj\n",
    "\n",
    "def create_base_component_df(json_list):\n",
    "    \n",
    "    df = pd.DataFrame()\n",
    "\n",
    "    for i in json_list:\n",
    "\n",
    "        base_component = read_json(i)\n",
    "\n",
    "        base_component_data = base_component['baseComponent']['measures']\n",
    "\n",
    "        base_component_df = pd.DataFrame(base_component_data)\n",
    "\n",
    "        base_component_df['filename'] = os.path.basename(i)\n",
    "\n",
    "        df = df.append(base_component_df, ignore_index=True)\n",
    "        \n",
    "    # Replace the UnB semester with yours.\n",
    "    aux_df = df['filename'].str.split(r\"fga-eps-mds-2022.1-(.*?)-(.*?):(.*?):(.*?)-(.*?).json\", expand=True)\n",
    "\n",
    "    df['repository'] = aux_df[2]\n",
    "\n",
    "    df['version'] = aux_df[5]\n",
    "\n",
    "    df = df.sort_values(by=['repository', 'version'])\n",
    "        \n",
    "    return df"
   ]
  },
  {
   "cell_type": "markdown",
   "metadata": {},
   "source": [
    "#### Create base component dataframe"
   ]
  },
  {
   "cell_type": "code",
   "execution_count": 61,
   "metadata": {},
   "outputs": [],
   "source": [
    "base_component_df = create_base_component_df(jsons)"
   ]
  },
  {
   "cell_type": "code",
   "execution_count": 62,
   "metadata": {},
   "outputs": [
    {
     "data": {
      "text/html": [
       "<div>\n",
       "<style scoped>\n",
       "    .dataframe tbody tr th:only-of-type {\n",
       "        vertical-align: middle;\n",
       "    }\n",
       "\n",
       "    .dataframe tbody tr th {\n",
       "        vertical-align: top;\n",
       "    }\n",
       "\n",
       "    .dataframe thead th {\n",
       "        text-align: right;\n",
       "    }\n",
       "</style>\n",
       "<table border=\"1\" class=\"dataframe\">\n",
       "  <thead>\n",
       "    <tr style=\"text-align: right;\">\n",
       "      <th></th>\n",
       "      <th>metric</th>\n",
       "      <th>value</th>\n",
       "      <th>bestValue</th>\n",
       "      <th>filename</th>\n",
       "      <th>repository</th>\n",
       "      <th>version</th>\n",
       "    </tr>\n",
       "  </thead>\n",
       "  <tbody>\n",
       "    <tr>\n",
       "      <th>50</th>\n",
       "      <td>duplicated_lines_density</td>\n",
       "      <td>5.5</td>\n",
       "      <td>False</td>\n",
       "      <td>fga-eps-mds-2022.1-EuPescador-FishLog-07-31-20...</td>\n",
       "      <td>FishLog-07-31-2022-22</td>\n",
       "      <td>v2.3.0</td>\n",
       "    </tr>\n",
       "    <tr>\n",
       "      <th>51</th>\n",
       "      <td>functions</td>\n",
       "      <td>19</td>\n",
       "      <td>NaN</td>\n",
       "      <td>fga-eps-mds-2022.1-EuPescador-FishLog-07-31-20...</td>\n",
       "      <td>FishLog-07-31-2022-22</td>\n",
       "      <td>v2.3.0</td>\n",
       "    </tr>\n",
       "    <tr>\n",
       "      <th>52</th>\n",
       "      <td>test_execution_time</td>\n",
       "      <td>115</td>\n",
       "      <td>NaN</td>\n",
       "      <td>fga-eps-mds-2022.1-EuPescador-FishLog-07-31-20...</td>\n",
       "      <td>FishLog-07-31-2022-22</td>\n",
       "      <td>v2.3.0</td>\n",
       "    </tr>\n",
       "    <tr>\n",
       "      <th>53</th>\n",
       "      <td>security_rating</td>\n",
       "      <td>1.0</td>\n",
       "      <td>True</td>\n",
       "      <td>fga-eps-mds-2022.1-EuPescador-FishLog-07-31-20...</td>\n",
       "      <td>FishLog-07-31-2022-22</td>\n",
       "      <td>v2.3.0</td>\n",
       "    </tr>\n",
       "    <tr>\n",
       "      <th>54</th>\n",
       "      <td>tests</td>\n",
       "      <td>23</td>\n",
       "      <td>NaN</td>\n",
       "      <td>fga-eps-mds-2022.1-EuPescador-FishLog-07-31-20...</td>\n",
       "      <td>FishLog-07-31-2022-22</td>\n",
       "      <td>v2.3.0</td>\n",
       "    </tr>\n",
       "    <tr>\n",
       "      <th>55</th>\n",
       "      <td>files</td>\n",
       "      <td>9</td>\n",
       "      <td>NaN</td>\n",
       "      <td>fga-eps-mds-2022.1-EuPescador-FishLog-07-31-20...</td>\n",
       "      <td>FishLog-07-31-2022-22</td>\n",
       "      <td>v2.3.0</td>\n",
       "    </tr>\n",
       "    <tr>\n",
       "      <th>56</th>\n",
       "      <td>complexity</td>\n",
       "      <td>52</td>\n",
       "      <td>NaN</td>\n",
       "      <td>fga-eps-mds-2022.1-EuPescador-FishLog-07-31-20...</td>\n",
       "      <td>FishLog-07-31-2022-22</td>\n",
       "      <td>v2.3.0</td>\n",
       "    </tr>\n",
       "    <tr>\n",
       "      <th>57</th>\n",
       "      <td>ncloc</td>\n",
       "      <td>357</td>\n",
       "      <td>NaN</td>\n",
       "      <td>fga-eps-mds-2022.1-EuPescador-FishLog-07-31-20...</td>\n",
       "      <td>FishLog-07-31-2022-22</td>\n",
       "      <td>v2.3.0</td>\n",
       "    </tr>\n",
       "    <tr>\n",
       "      <th>58</th>\n",
       "      <td>coverage</td>\n",
       "      <td>77.4</td>\n",
       "      <td>False</td>\n",
       "      <td>fga-eps-mds-2022.1-EuPescador-FishLog-07-31-20...</td>\n",
       "      <td>FishLog-07-31-2022-22</td>\n",
       "      <td>v2.3.0</td>\n",
       "    </tr>\n",
       "    <tr>\n",
       "      <th>59</th>\n",
       "      <td>reliability_rating</td>\n",
       "      <td>1.0</td>\n",
       "      <td>True</td>\n",
       "      <td>fga-eps-mds-2022.1-EuPescador-FishLog-07-31-20...</td>\n",
       "      <td>FishLog-07-31-2022-22</td>\n",
       "      <td>v2.3.0</td>\n",
       "    </tr>\n",
       "  </tbody>\n",
       "</table>\n",
       "</div>"
      ],
      "text/plain": [
       "                      metric value bestValue  \\\n",
       "50  duplicated_lines_density   5.5     False   \n",
       "51                 functions    19       NaN   \n",
       "52       test_execution_time   115       NaN   \n",
       "53           security_rating   1.0      True   \n",
       "54                     tests    23       NaN   \n",
       "55                     files     9       NaN   \n",
       "56                complexity    52       NaN   \n",
       "57                     ncloc   357       NaN   \n",
       "58                  coverage  77.4     False   \n",
       "59        reliability_rating   1.0      True   \n",
       "\n",
       "                                             filename             repository  \\\n",
       "50  fga-eps-mds-2022.1-EuPescador-FishLog-07-31-20...  FishLog-07-31-2022-22   \n",
       "51  fga-eps-mds-2022.1-EuPescador-FishLog-07-31-20...  FishLog-07-31-2022-22   \n",
       "52  fga-eps-mds-2022.1-EuPescador-FishLog-07-31-20...  FishLog-07-31-2022-22   \n",
       "53  fga-eps-mds-2022.1-EuPescador-FishLog-07-31-20...  FishLog-07-31-2022-22   \n",
       "54  fga-eps-mds-2022.1-EuPescador-FishLog-07-31-20...  FishLog-07-31-2022-22   \n",
       "55  fga-eps-mds-2022.1-EuPescador-FishLog-07-31-20...  FishLog-07-31-2022-22   \n",
       "56  fga-eps-mds-2022.1-EuPescador-FishLog-07-31-20...  FishLog-07-31-2022-22   \n",
       "57  fga-eps-mds-2022.1-EuPescador-FishLog-07-31-20...  FishLog-07-31-2022-22   \n",
       "58  fga-eps-mds-2022.1-EuPescador-FishLog-07-31-20...  FishLog-07-31-2022-22   \n",
       "59  fga-eps-mds-2022.1-EuPescador-FishLog-07-31-20...  FishLog-07-31-2022-22   \n",
       "\n",
       "   version  \n",
       "50  v2.3.0  \n",
       "51  v2.3.0  \n",
       "52  v2.3.0  \n",
       "53  v2.3.0  \n",
       "54  v2.3.0  \n",
       "55  v2.3.0  \n",
       "56  v2.3.0  \n",
       "57  v2.3.0  \n",
       "58  v2.3.0  \n",
       "59  v2.3.0  "
      ]
     },
     "execution_count": 62,
     "metadata": {},
     "output_type": "execute_result"
    }
   ],
   "source": [
    "base_component_df.head(10)"
   ]
  },
  {
   "cell_type": "markdown",
   "metadata": {},
   "source": [
    "#### Create dataframe per file"
   ]
  },
  {
   "cell_type": "code",
   "execution_count": 63,
   "metadata": {},
   "outputs": [
    {
     "data": {
      "text/plain": [
       "12"
      ]
     },
     "execution_count": 63,
     "metadata": {},
     "output_type": "execute_result"
    }
   ],
   "source": [
    "metric_list = ['files',\n",
    "               'functions',\n",
    "               'complexity',\n",
    "               'comment_lines_density',\n",
    "               'duplicated_lines_density',\n",
    "               'coverage',\n",
    "               'ncloc',\n",
    "               'tests',\n",
    "               'test_errors',\n",
    "               'test_failures',\n",
    "               'test_execution_time',\n",
    "               'security_rating']\n",
    "\n",
    "len(metric_list)"
   ]
  },
  {
   "cell_type": "code",
   "execution_count": 64,
   "metadata": {
    "pycharm": {
     "name": "#%%\n"
    }
   },
   "outputs": [],
   "source": [
    "def get_files_df(df):\n",
    "    \n",
    "    files = df[df['qualifier'] == 'FIL'] \n",
    "    \n",
    "    files = files.dropna(subset=['functions', 'complexity','comment_lines_density', 'duplicated_lines_density', 'coverage' ])\n",
    "    \n",
    "    return files"
   ]
  },
  {
   "cell_type": "code",
   "execution_count": 65,
   "metadata": {
    "pycharm": {
     "name": "#%%\n"
    }
   },
   "outputs": [],
   "source": [
    "def get_dir_df(df):\n",
    "    dirs = df[df[\"qualifier\"] == \"DIR\"]     \n",
    "\n",
    "    newdf = pd.to_numeric(dirs[\"tests\"])\n",
    "    \n",
    "    max_value_index = newdf.idxmax()            \n",
    "    \n",
    "    return dirs.loc[max_value_index]"
   ]
  },
  {
   "cell_type": "code",
   "execution_count": 66,
   "metadata": {},
   "outputs": [],
   "source": [
    "def get_uts_df(df):\n",
    "    dirs = df[df['qualifier'] == 'UTS']     \n",
    "\n",
    "    dirs = dirs.dropna(subset=['test_execution_time'])          \n",
    "    \n",
    "    return dirs"
   ]
  },
  {
   "cell_type": "code",
   "execution_count": 67,
   "metadata": {},
   "outputs": [],
   "source": [
    "def metric_per_file(json):\n",
    "    \n",
    "    file_json = []\n",
    "    \n",
    "    for component in json['components']:\n",
    "        \n",
    "        ncloc_value = 0;\n",
    "        \n",
    "        for valores in component['measures']:\n",
    "\n",
    "            if valores['metric'] == 'ncloc':\n",
    "                ncloc_value = float(valores['value'])\n",
    "                break\n",
    "    \n",
    "        if (component['qualifier'] == 'FIL') & (ncloc_value > 0) or (component['qualifier'] == 'DIR') or (component['qualifier'] == 'UTS'):                       \n",
    "            file_json.append(component)\n",
    "\n",
    "    return file_json\n",
    "\n",
    "def generate_file_dataframe_per_release(metric_list, json, language_extension):\n",
    "    \n",
    "    df_columns = metric_list\n",
    "    df = pd.DataFrame(columns = df_columns)\n",
    "    df2 = pd.DataFrame(columns = df_columns)\n",
    "    df3 = pd.DataFrame(columns = df_columns)\n",
    "    \n",
    "    \n",
    "    for file in json:\n",
    "        try:\n",
    "                if file['qualifier'] == 'FIL' and file['language'] == language_extension:\n",
    "                    for measure in file['measures']:\n",
    "                        df.at[file['path'], measure['metric']] = measure['value']\n",
    "\n",
    "                    df['qualifier'] = file['qualifier'] \n",
    "\n",
    "                elif file['qualifier'] == 'UTS':  \n",
    "                    for measure in file['measures']:\n",
    "                        df3.at[file['path'], measure['metric']] = measure['value']\n",
    "\n",
    "                    df3['qualifier'] = file['qualifier'] \n",
    "                elif file['qualifier'] == 'DIR':\n",
    "                    for measure in file['measures']:\n",
    "                        df2.at[file['path'], measure['metric']] = measure['value']\n",
    "                    df2['qualifier'] = file['qualifier'] \n",
    "        except:\n",
    "            pass\n",
    "\n",
    "    df.reset_index(inplace = True)\n",
    "    df2.reset_index(inplace = True)\n",
    "    df3.reset_index(inplace = True)\n",
    "    df = df.rename({'index': 'path'}, axis=1).drop(['files'], axis=1)\n",
    "    df2 = df2.rename({'index': 'path'}, axis=1).drop(['files'], axis=1)\n",
    "    df3 = df3.rename({'index': 'path'}, axis=1).drop(['files'], axis=1)\n",
    "\n",
    "    dfFinal = pd.concat([df,df2,df3], axis=0)\n",
    "\n",
    "    return dfFinal\n",
    "\n",
    "def create_file_df(json_list):\n",
    "    \n",
    "    df = pd.DataFrame()\n",
    "    dfDir = pd.DataFrame()\n",
    "\n",
    "    for i in json_list:\n",
    "\n",
    "        file_component = read_json(i)\n",
    "        \n",
    "        file_component_data = metric_per_file(file_component)\n",
    "                        \n",
    "        file_name = os.path.basename(i)\n",
    "\n",
    "        file_repository = re.split(r'-(\\d+-\\d+-\\d+-\\d+:\\d+:\\d+)-(.*?).json', file_name)[0]\n",
    "\n",
    "        file_language = repos_language[f\"{file_repository}\"]\n",
    "\n",
    "        file_component_df = generate_file_dataframe_per_release(metric_list, file_component_data, language_extension = file_language)\n",
    "        \n",
    "        file_component_df['filename'] = os.path.basename(i)\n",
    "\n",
    "        df = df.append(file_component_df, ignore_index=True)\n",
    "        \n",
    "    # Replace the UnB semester with yours.\n",
    "    \n",
    "    aux_df = df['filename'].str.split(r\"-(\\d+-\\d+-\\d+-\\d+:\\d+:\\d+)-(.*?).json\", expand=True)\n",
    "\n",
    "    df['repository'] = aux_df[0]\n",
    "\n",
    "    df['version'] = aux_df[2]\n",
    "\n",
    "    df = df.sort_values(by=['version'])\n",
    "    \n",
    "    return df"
   ]
  },
  {
   "cell_type": "code",
   "execution_count": 68,
   "metadata": {},
   "outputs": [
    {
     "data": {
      "text/plain": [
       "array(['fga-eps-mds-2022.1-EuPescador-UserInterface',\n",
       "       'fga-eps-mds-2022.1-EuPescador-Web',\n",
       "       'fga-eps-mds-2022.1-EuPescador-FishWiki',\n",
       "       'fga-eps-mds-2022.1-EuPescador-FishLog',\n",
       "       'fga-eps-mds-2022.1-EuPescador-User'], dtype=object)"
      ]
     },
     "execution_count": 68,
     "metadata": {},
     "output_type": "execute_result"
    }
   ],
   "source": [
    "file_component_df = create_file_df(jsons)\n",
    "file_component_df.repository.unique()"
   ]
  },
  {
   "cell_type": "markdown",
   "metadata": {},
   "source": [
    "#### Removing NaN"
   ]
  },
  {
   "cell_type": "code",
   "execution_count": 69,
   "metadata": {
    "pycharm": {
     "name": "#%%\n"
    }
   },
   "outputs": [],
   "source": [
    "file_component_df = file_component_df.dropna(subset=['functions', 'complexity','comment_lines_density', 'duplicated_lines_density', 'coverage' ])"
   ]
  },
  {
   "cell_type": "markdown",
   "metadata": {},
   "source": [
    "        #### Create dataframe per repository"
   ]
  },
  {
   "cell_type": "code",
   "execution_count": 70,
   "metadata": {},
   "outputs": [],
   "source": [
    "# Example. You must replace repo1, repo1,..., for your repository's names\n",
    "\n",
    "repo1_df = file_component_df[file_component_df['repository'] == 'fga-eps-mds-2022.1-EuPescador-UserInterface']\n",
    "repo2_df = file_component_df[file_component_df['repository'] == 'fga-eps-mds-2022.1-EuPescador-Web']\n",
    "repo3_df = file_component_df[file_component_df['repository'] == 'fga-eps-mds-2022.1-EuPescador-FishWiki']\n",
    "repo4_df = file_component_df[file_component_df['repository'] == 'fga-eps-mds-2022.1-EuPescador-FishLog']\n",
    "repo5_df = file_component_df[file_component_df['repository'] == 'fga-eps-mds-2022.1-EuPescador-User']\n"
   ]
  },
  {
   "cell_type": "code",
   "execution_count": 71,
   "metadata": {
    "pycharm": {
     "name": "#%%\n"
    }
   },
   "outputs": [],
   "source": [
    "def _ncloc(df):\n",
    "    ncloc = 0\n",
    "    for each in df['ncloc']:\n",
    "        n = 0\n",
    "        # try to cast the current ncloc value to int, if the value is NaN/Null, consider it as zero.\n",
    "        try:\n",
    "            n = int(each)\n",
    "        except ValueError:\n",
    "            n = 0\n",
    "        ncloc += n\n",
    "\n",
    "    return ncloc"
   ]
  },
  {
   "cell_type": "markdown",
   "metadata": {},
   "source": [
    "### Measure calculations according Q-Rapids quality model"
   ]
  },
  {
   "cell_type": "markdown",
   "metadata": {},
   "source": [
    "# Quality Aspect - Maintainability\n",
    "## Factor - Code Quality"
   ]
  },
  {
   "cell_type": "markdown",
   "metadata": {},
   "source": [
    "##### COMPLEXITY"
   ]
  },
  {
   "cell_type": "code",
   "execution_count": 72,
   "metadata": {},
   "outputs": [],
   "source": [
    "def m1(df):\n",
    "\n",
    "    files_df = get_files_df(df)\n",
    "    \n",
    "    density_non_complex_files = len(files_df[(files_df['complexity'].astype(float) /\n",
    "                                              files_df['functions'].astype(float)) < 10]) / len(files_df)\n",
    "    \n",
    "    return density_non_complex_files"
   ]
  },
  {
   "cell_type": "markdown",
   "metadata": {},
   "source": [
    "##### COMMENTS"
   ]
  },
  {
   "cell_type": "code",
   "execution_count": 73,
   "metadata": {},
   "outputs": [],
   "source": [
    "def m2(df):\n",
    "\n",
    "    files_df = get_files_df(df)\n",
    "    \n",
    "    density_comment_files = len(files_df[(files_df['comment_lines_density'].astype(float) > 10) &\n",
    "                                         (files_df['comment_lines_density'].astype(float) < 30)]) / len(files_df)\n",
    "    \n",
    "    return density_comment_files"
   ]
  },
  {
   "cell_type": "markdown",
   "metadata": {},
   "source": [
    "##### DUPLICATIONS"
   ]
  },
  {
   "cell_type": "code",
   "execution_count": 74,
   "metadata": {},
   "outputs": [],
   "source": [
    "def m3(df):\n",
    "\n",
    "    files_df = get_files_df(df)\n",
    "    \n",
    "    duplication = len(files_df[(files_df['duplicated_lines_density'].astype(float) < 5)])/len(files_df)\n",
    "    \n",
    "    return duplication"
   ]
  },
  {
   "cell_type": "markdown",
   "metadata": {},
   "source": [
    "# Quality Aspect - Reliability\n",
    "## Factor - Testing Status"
   ]
  },
  {
   "cell_type": "markdown",
   "metadata": {},
   "source": [
    "##### Passed tests"
   ]
  },
  {
   "cell_type": "code",
   "execution_count": 75,
   "metadata": {
    "pycharm": {
     "name": "#%%\n"
    }
   },
   "outputs": [],
   "source": [
    "def m4(df):\n",
    "    try:\n",
    "\n",
    "        dir_df = get_dir_df(df)\n",
    "        passed_tests = (float(dir_df['tests']) - (float(dir_df['test_errors']) + float(dir_df['test_failures']))) /\\\n",
    "                   float(dir_df['tests'])\n",
    "    except:\n",
    "        passed_tests=0;\n",
    "    return passed_tests"
   ]
  },
  {
   "cell_type": "markdown",
   "metadata": {},
   "source": [
    "##### Fast test builds"
   ]
  },
  {
   "cell_type": "code",
   "execution_count": 76,
   "metadata": {
    "pycharm": {
     "name": "#%%\n"
    }
   },
   "outputs": [],
   "source": [
    "def m5(df):\n",
    "\n",
    "    dir_df = get_uts_df(df)\n",
    "    try:\n",
    "        density_fast_test_builds = len(dir_df[(dir_df['test_execution_time'].astype(float)) < 300000]) /\\\n",
    "                               len(dir_df['test_execution_time'].astype(float))\n",
    "    except:\n",
    "        density_fast_test_builds=0    \n",
    "    return density_fast_test_builds"
   ]
  },
  {
   "cell_type": "markdown",
   "metadata": {},
   "source": [
    "##### Test coverage"
   ]
  },
  {
   "cell_type": "code",
   "execution_count": 77,
   "metadata": {
    "pycharm": {
     "name": "#%%\n"
    }
   },
   "outputs": [],
   "source": [
    "def m6(df):\n",
    "\n",
    "    files_df = get_files_df(df)\n",
    "    try:\n",
    "        density_test_coverage = len(files_df[(files_df['coverage'].astype(float) > 60)]) / len(files_df)\n",
    "    except:\n",
    "        density_test_coverage=0\n",
    "    return density_test_coverage"
   ]
  },
  {
   "cell_type": "markdown",
   "metadata": {},
   "source": [
    "### Calculate m1, m2, m3, m4, m5 and m6 for each repository"
   ]
  },
  {
   "cell_type": "code",
   "execution_count": 78,
   "metadata": {},
   "outputs": [],
   "source": [
    "def create_metrics_df(df):\n",
    "    \n",
    "    version_vec = df['version'].unique()\n",
    "    \n",
    "    m1_list = []\n",
    "    m2_list = []\n",
    "    m3_list = []\n",
    "    m4_list = []\n",
    "    m5_list = []\n",
    "    m6_list = []\n",
    "\n",
    "    ncloc_list = []\n",
    "    repository_list = []\n",
    "    version_list = []\n",
    "    \n",
    "    for version in version_vec:\n",
    "\n",
    "        version_df = df[df['version'] == version]\n",
    "\n",
    "        m1_list.append(m1(version_df))\n",
    "        m2_list.append(m2(version_df))\n",
    "        m3_list.append(m3(version_df))\n",
    "        m4_list.append(m4(version_df))\n",
    "        m5_list.append(m5(version_df))\n",
    "        m6_list.append(m6(version_df))\n",
    "\n",
    "        ncloc_list.append(_ncloc(version_df))\n",
    "        repository_list.append(version_df['repository'].iloc[0])\n",
    "        version_list.append(version)\n",
    "        \n",
    "    metrics_df = pd.DataFrame({'m1': m1_list,\n",
    "                               'm2': m2_list,\n",
    "                               'm3': m3_list,\n",
    "                               'm4': m4_list,\n",
    "                               'm5': m5_list,\n",
    "                               'm6': m6_list,\n",
    "                               'repository': repository_list, \n",
    "                               'version': version_list,\n",
    "                               'ncloc': ncloc_list})\n",
    "        \n",
    "    return metrics_df"
   ]
  },
  {
   "cell_type": "code",
   "execution_count": 79,
   "metadata": {},
   "outputs": [],
   "source": [
    "repo1 = create_metrics_df(repo1_df)\n",
    "repo2 = create_metrics_df(repo2_df)\n",
    "repo3 = create_metrics_df(repo3_df)\n",
    "repo4 = create_metrics_df(repo4_df)\n",
    "repo5 = create_metrics_df(repo5_df)\n"
   ]
  },
  {
   "cell_type": "markdown",
   "metadata": {},
   "source": [
    "### Data visualization\n",
    "\n",
    "- You must do this for each of your repositories"
   ]
  },
  {
   "cell_type": "code",
   "execution_count": 80,
   "metadata": {},
   "outputs": [
    {
     "data": {
      "text/plain": [
       "[<matplotlib.lines.Line2D at 0x7fb775ff1630>]"
      ]
     },
     "execution_count": 80,
     "metadata": {},
     "output_type": "execute_result"
    },
    {
     "data": {
      "image/png": "[encoded data removed]",
      "text/plain": [
       "<Figure size 432x288 with 1 Axes>"
      ]
     },
     "metadata": {
      "needs_background": "light"
     },
     "output_type": "display_data"
    }
   ],
   "source": [
    "plt.plot(repo1['m1'], linewidth=3, marker='o', markersize=10)\n",
    "plt.plot(repo1['m2'], linewidth=3, marker='o', markersize=10)\n",
    "plt.plot(repo1['m3'], linewidth=3, marker='o', markersize=10)\n",
    "plt.plot(repo1['m4'], linewidth=3, marker='o', markersize=10)\n",
    "plt.plot(repo1['m5'], linewidth=3, marker='o', markersize=10)\n",
    "plt.plot(repo1['m6'], linewidth=3, marker='o', markersize=10)"
   ]
  },
  {
   "cell_type": "code",
   "execution_count": 81,
   "metadata": {
    "pycharm": {
     "name": "#%%\n"
    }
   },
   "outputs": [
    {
     "data": {
      "text/plain": [
       "Ellipsis"
      ]
     },
     "execution_count": 81,
     "metadata": {},
     "output_type": "execute_result"
    },
    {
     "data": {
      "image/png": "[encoded data removed]",
      "text/plain": [
       "<Figure size 432x288 with 1 Axes>"
      ]
     },
     "metadata": {
      "needs_background": "light"
     },
     "output_type": "display_data"
    }
   ],
   "source": [
    "\n",
    "plt.plot(repo2['m1'], linewidth=3, marker='o', markersize=10)\n",
    "plt.plot(repo2['m2'], linewidth=3, marker='o', markersize=10)\n",
    "plt.plot(repo2['m3'], linewidth=3, marker='o', markersize=10)\n",
    "plt.plot(repo2['m4'], linewidth=3, marker='o', markersize=10)\n",
    "plt.plot(repo2['m5'], linewidth=3, marker='o', markersize=10)\n",
    "plt.plot(repo2['m6'], linewidth=3, marker='o', markersize=10)\n",
    "\n",
    "..."
   ]
  },
  {
   "cell_type": "code",
   "execution_count": 82,
   "metadata": {
    "pycharm": {
     "name": "#%%\n"
    }
   },
   "outputs": [
    {
     "data": {
      "text/plain": [
       "Ellipsis"
      ]
     },
     "execution_count": 82,
     "metadata": {},
     "output_type": "execute_result"
    },
    {
     "data": {
      "image/png": "[encoded data removed]",
      "text/plain": [
       "<Figure size 432x288 with 1 Axes>"
      ]
     },
     "metadata": {
      "needs_background": "light"
     },
     "output_type": "display_data"
    }
   ],
   "source": [
    "\n",
    "plt.plot(repo3['m1'], linewidth=3, marker='o', markersize=10)\n",
    "plt.plot(repo3['m2'], linewidth=3, marker='o', markersize=10)\n",
    "plt.plot(repo3['m3'], linewidth=3, marker='o', markersize=10)\n",
    "plt.plot(repo3['m4'], linewidth=3, marker='o', markersize=10)\n",
    "plt.plot(repo3['m5'], linewidth=3, marker='o', markersize=10)\n",
    "plt.plot(repo3['m6'], linewidth=3, marker='o', markersize=10)\n",
    "\n",
    "..."
   ]
  },
  {
   "cell_type": "code",
   "execution_count": 83,
   "metadata": {
    "pycharm": {
     "name": "#%%\n"
    }
   },
   "outputs": [
    {
     "data": {
      "text/plain": [
       "Ellipsis"
      ]
     },
     "execution_count": 83,
     "metadata": {},
     "output_type": "execute_result"
    },
    {
     "data": {
      "image/png": "[encoded data removed]",
      "text/plain": [
       "<Figure size 432x288 with 1 Axes>"
      ]
     },
     "metadata": {
      "needs_background": "light"
     },
     "output_type": "display_data"
    }
   ],
   "source": [
    "\n",
    "plt.plot(repo4['m1'], linewidth=3, marker='o', markersize=10)\n",
    "plt.plot(repo4['m2'], linewidth=3, marker='o', markersize=10)\n",
    "plt.plot(repo4['m3'], linewidth=3, marker='o', markersize=10)\n",
    "plt.plot(repo4['m4'], linewidth=3, marker='o', markersize=10)\n",
    "plt.plot(repo4['m5'], linewidth=3, marker='o', markersize=10)\n",
    "plt.plot(repo4['m6'], linewidth=3, marker='o', markersize=10)\n",
    "\n",
    "..."
   ]
  },
  {
   "cell_type": "code",
   "execution_count": 84,
   "metadata": {
    "pycharm": {
     "name": "#%%\n"
    }
   },
   "outputs": [
    {
     "data": {
      "text/plain": [
       "Ellipsis"
      ]
     },
     "execution_count": 84,
     "metadata": {},
     "output_type": "execute_result"
    },
    {
     "data": {
      "image/png": "[encoded data removed]",
      "text/plain": [
       "<Figure size 432x288 with 1 Axes>"
      ]
     },
     "metadata": {
      "needs_background": "light"
     },
     "output_type": "display_data"
    }
   ],
   "source": [
    "\n",
    "plt.plot(repo5['m1'], linewidth=3, marker='o', markersize=10)\n",
    "plt.plot(repo5['m2'], linewidth=3, marker='o', markersize=10)\n",
    "plt.plot(repo5['m3'], linewidth=3, marker='o', markersize=10)\n",
    "plt.plot(repo5['m4'], linewidth=3, marker='o', markersize=10)\n",
    "plt.plot(repo5['m5'], linewidth=3, marker='o', markersize=10)\n",
    "plt.plot(repo5['m6'], linewidth=3, marker='o', markersize=10)\n",
    "\n",
    "..."
   ]
  },
  {
   "cell_type": "markdown",
   "metadata": {},
   "source": [
    "### Quality factor and aspect aggregation\n",
    "\n",
    "- You must do this for each of your repositories"
   ]
  },
  {
   "cell_type": "code",
   "execution_count": 85,
   "metadata": {},
   "outputs": [],
   "source": [
    "psc1 = 1\n",
    "psc2 = 1\n",
    "pc1 = 0.5\n",
    "pc2 = 0.5\n",
    "pm1 = 0.33\n",
    "pm2 = 0.33\n",
    "pm3 = 0.33\n",
    "pm4 = 0.25\n",
    "pm5 = 0.25\n",
    "pm6 = 0.5\n",
    "\n",
    "repo1['code_quality'] = ((repo1['m1']*pm1) + (repo1['m2']*pm2) + (repo1['m3']*pm3)) * psc1\n",
    "repo2['code_quality'] = ((repo2['m1']*pm1) + (repo2['m2']*pm2) + (repo2['m3']*pm3)) * psc1\n",
    "repo3['code_quality'] = ((repo3['m1']*pm1) + (repo3['m2']*pm2) + (repo3['m3']*pm3)) * psc1\n",
    "repo4['code_quality'] = ((repo4['m1']*pm1) + (repo4['m2']*pm2) + (repo4['m3']*pm3)) * psc1\n",
    "repo5['code_quality'] = ((repo5['m1']*pm1) + (repo5['m2']*pm2) + (repo5['m3']*pm3)) * psc1\n",
    "\n",
    "repo1['testing_status'] = ((repo1['m4']*pm4) + (repo1['m5']*pm5) + (repo1['m6']*pm6)) * psc2\n",
    "repo2['testing_status'] = ((repo2['m4']*pm4) + (repo2['m5']*pm5) + (repo2['m6']*pm6)) * psc2\n",
    "repo3['testing_status'] = ((repo3['m4']*pm4) + (repo3['m5']*pm5) + (repo3['m6']*pm6)) * psc2\n",
    "repo4['testing_status'] = ((repo4['m4']*pm4) + (repo4['m5']*pm5) + (repo4['m6']*pm6)) * psc2\n",
    "repo5['testing_status'] = ((repo5['m4']*pm4) + (repo5['m5']*pm5) + (repo5['m6']*pm6)) * psc2"
   ]
  },
  {
   "cell_type": "code",
   "execution_count": 86,
   "metadata": {},
   "outputs": [
    {
     "data": {
      "text/plain": [
       "[<matplotlib.lines.Line2D at 0x7fb775fb05f8>]"
      ]
     },
     "execution_count": 86,
     "metadata": {},
     "output_type": "execute_result"
    },
    {
     "data": {
      "image/png": "[encoded data removed]",
      "text/plain": [
       "<Figure size 432x288 with 1 Axes>"
      ]
     },
     "metadata": {
      "needs_background": "light"
     },
     "output_type": "display_data"
    }
   ],
   "source": [
    "plt.plot(repo1['code_quality'], linewidth=3, marker='o', markersize=5)\n",
    "plt.plot(repo2['code_quality'], linewidth=3, marker='o', markersize=5)\n",
    "plt.plot(repo3['code_quality'], linewidth=3, marker='o', markersize=5)\n",
    "plt.plot(repo4['code_quality'], linewidth=3, marker='o', markersize=5)\n",
    "plt.plot(repo5['code_quality'], linewidth=3, marker='o', markersize=5)"
   ]
  },
  {
   "cell_type": "code",
   "execution_count": 87,
   "metadata": {
    "pycharm": {
     "name": "#%%\n"
    }
   },
   "outputs": [
    {
     "data": {
      "text/plain": [
       "[<matplotlib.lines.Line2D at 0x7fb7758b9fd0>]"
      ]
     },
     "execution_count": 87,
     "metadata": {},
     "output_type": "execute_result"
    },
    {
     "data": {
      "image/png": "[encoded data removed]",
      "text/plain": [
       "<Figure size 432x288 with 1 Axes>"
      ]
     },
     "metadata": {
      "needs_background": "light"
     },
     "output_type": "display_data"
    }
   ],
   "source": [
    "\n",
    "plt.plot(repo1['testing_status'], linewidth=3, marker='o', markersize=5)\n",
    "plt.plot(repo2['testing_status'], linewidth=3, marker='o', markersize=5)\n",
    "plt.plot(repo3['testing_status'], linewidth=3, marker='o', markersize=5)\n",
    "plt.plot(repo4['testing_status'], linewidth=3, marker='o', markersize=5)\n",
    "plt.plot(repo5['testing_status'], linewidth=3, marker='o', markersize=5)\n"
   ]
  },
  {
   "cell_type": "code",
   "execution_count": 88,
   "metadata": {},
   "outputs": [],
   "source": [
    "repo1['Maintainability'] = repo1['code_quality'] * pc1\n",
    "repo1['Reliability'] = repo1['testing_status'] * pc2\n",
    "repo1['total'] = repo1['Maintainability'] + repo1['Reliability']\n",
    "\n",
    "repo2['Maintainability'] = repo2['code_quality'] * pc1\n",
    "repo2['Reliability'] = repo2['testing_status'] * pc2\n",
    "repo2['total'] = repo2['Maintainability'] + repo2['Reliability']\n",
    "\n",
    "repo3['Maintainability'] = repo3['code_quality'] * pc1\n",
    "repo3['Reliability'] = repo3['testing_status'] * pc2\n",
    "repo3['total'] = repo3['Maintainability'] + repo3['Reliability']\n",
    "\n",
    "\n",
    "repo4['Maintainability'] = repo4['code_quality'] * pc1\n",
    "repo4['Reliability'] = repo4['testing_status'] * pc2\n",
    "repo4['total'] = repo4['Maintainability'] + repo4['Reliability']\n",
    "\n",
    "\n",
    "repo5['Maintainability'] = repo5['code_quality'] * pc1\n",
    "repo5['Reliability'] = repo5['testing_status'] * pc2\n",
    "repo5['total'] = repo5['Maintainability'] + repo5['Reliability']"
   ]
  },
  {
   "cell_type": "code",
   "execution_count": 89,
   "metadata": {},
   "outputs": [
    {
     "data": {
      "text/html": [
       "<div>\n",
       "<style scoped>\n",
       "    .dataframe tbody tr th:only-of-type {\n",
       "        vertical-align: middle;\n",
       "    }\n",
       "\n",
       "    .dataframe tbody tr th {\n",
       "        vertical-align: top;\n",
       "    }\n",
       "\n",
       "    .dataframe thead th {\n",
       "        text-align: right;\n",
       "    }\n",
       "</style>\n",
       "<table border=\"1\" class=\"dataframe\">\n",
       "  <thead>\n",
       "    <tr style=\"text-align: right;\">\n",
       "      <th></th>\n",
       "      <th>m1</th>\n",
       "      <th>m2</th>\n",
       "      <th>m3</th>\n",
       "      <th>m4</th>\n",
       "      <th>m5</th>\n",
       "      <th>m6</th>\n",
       "      <th>repository</th>\n",
       "      <th>version</th>\n",
       "      <th>ncloc</th>\n",
       "      <th>code_quality</th>\n",
       "      <th>testing_status</th>\n",
       "      <th>Maintainability</th>\n",
       "      <th>Reliability</th>\n",
       "      <th>total</th>\n",
       "    </tr>\n",
       "  </thead>\n",
       "  <tbody>\n",
       "    <tr>\n",
       "      <th>0</th>\n",
       "      <td>0.867209</td>\n",
       "      <td>0.033875</td>\n",
       "      <td>0.815718</td>\n",
       "      <td>0</td>\n",
       "      <td>0</td>\n",
       "      <td>0.012195</td>\n",
       "      <td>fga-eps-mds-2022.1-EuPescador-UserInterface</td>\n",
       "      <td>devel</td>\n",
       "      <td>206834</td>\n",
       "      <td>0.566545</td>\n",
       "      <td>0.006098</td>\n",
       "      <td>0.283272</td>\n",
       "      <td>0.003049</td>\n",
       "      <td>0.286321</td>\n",
       "    </tr>\n",
       "    <tr>\n",
       "      <th>1</th>\n",
       "      <td>0.862745</td>\n",
       "      <td>0.029412</td>\n",
       "      <td>0.843137</td>\n",
       "      <td>0</td>\n",
       "      <td>0</td>\n",
       "      <td>0.000000</td>\n",
       "      <td>fga-eps-mds-2022.1-EuPescador-UserInterface</td>\n",
       "      <td>v2.1.0</td>\n",
       "      <td>27108</td>\n",
       "      <td>0.572647</td>\n",
       "      <td>0.000000</td>\n",
       "      <td>0.286324</td>\n",
       "      <td>0.000000</td>\n",
       "      <td>0.286324</td>\n",
       "    </tr>\n",
       "    <tr>\n",
       "      <th>2</th>\n",
       "      <td>0.862745</td>\n",
       "      <td>0.029412</td>\n",
       "      <td>0.843137</td>\n",
       "      <td>0</td>\n",
       "      <td>0</td>\n",
       "      <td>0.000000</td>\n",
       "      <td>fga-eps-mds-2022.1-EuPescador-UserInterface</td>\n",
       "      <td>v2.2.0</td>\n",
       "      <td>27340</td>\n",
       "      <td>0.572647</td>\n",
       "      <td>0.000000</td>\n",
       "      <td>0.286324</td>\n",
       "      <td>0.000000</td>\n",
       "      <td>0.286324</td>\n",
       "    </tr>\n",
       "    <tr>\n",
       "      <th>3</th>\n",
       "      <td>0.870370</td>\n",
       "      <td>0.037037</td>\n",
       "      <td>0.796296</td>\n",
       "      <td>0</td>\n",
       "      <td>0</td>\n",
       "      <td>0.000000</td>\n",
       "      <td>fga-eps-mds-2022.1-EuPescador-UserInterface</td>\n",
       "      <td>v2.3.0</td>\n",
       "      <td>31296</td>\n",
       "      <td>0.562222</td>\n",
       "      <td>0.000000</td>\n",
       "      <td>0.281111</td>\n",
       "      <td>0.000000</td>\n",
       "      <td>0.281111</td>\n",
       "    </tr>\n",
       "  </tbody>\n",
       "</table>\n",
       "</div>"
      ],
      "text/plain": [
       "         m1        m2        m3  m4  m5        m6  \\\n",
       "0  0.867209  0.033875  0.815718   0   0  0.012195   \n",
       "1  0.862745  0.029412  0.843137   0   0  0.000000   \n",
       "2  0.862745  0.029412  0.843137   0   0  0.000000   \n",
       "3  0.870370  0.037037  0.796296   0   0  0.000000   \n",
       "\n",
       "                                    repository version   ncloc  code_quality  \\\n",
       "0  fga-eps-mds-2022.1-EuPescador-UserInterface   devel  206834      0.566545   \n",
       "1  fga-eps-mds-2022.1-EuPescador-UserInterface  v2.1.0   27108      0.572647   \n",
       "2  fga-eps-mds-2022.1-EuPescador-UserInterface  v2.2.0   27340      0.572647   \n",
       "3  fga-eps-mds-2022.1-EuPescador-UserInterface  v2.3.0   31296      0.562222   \n",
       "\n",
       "   testing_status  Maintainability  Reliability     total  \n",
       "0        0.006098         0.283272     0.003049  0.286321  \n",
       "1        0.000000         0.286324     0.000000  0.286324  \n",
       "2        0.000000         0.286324     0.000000  0.286324  \n",
       "3        0.000000         0.281111     0.000000  0.281111  "
      ]
     },
     "execution_count": 89,
     "metadata": {},
     "output_type": "execute_result"
    }
   ],
   "source": [
    "repo1"
   ]
  },
  {
   "cell_type": "code",
   "execution_count": 90,
   "metadata": {
    "pycharm": {
     "name": "#%%\n"
    }
   },
   "outputs": [
    {
     "data": {
      "text/plain": [
       "(0.1, 1.1)"
      ]
     },
     "execution_count": 90,
     "metadata": {},
     "output_type": "execute_result"
    },
    {
     "data": {
      "image/png": "[encoded data removed]",
      "text/plain": [
       "<Figure size 432x288 with 1 Axes>"
      ]
     },
     "metadata": {
      "needs_background": "light"
     },
     "output_type": "display_data"
    }
   ],
   "source": [
    "plt.plot(repo1['Maintainability'], linewidth=3, marker='o', markersize=5)\n",
    "plt.plot(repo1['Reliability'], linewidth=3, marker='*', markersize=5)\n",
    "plt.plot(repo1['total'], linewidth=3, marker='X', markersize=5)\n",
    "\n",
    "plt.ylim(0.1,1.1)"
   ]
  },
  {
   "cell_type": "code",
   "execution_count": 91,
   "metadata": {
    "pycharm": {
     "name": "#%%\n"
    }
   },
   "outputs": [
    {
     "data": {
      "text/html": [
       "<div>\n",
       "<style scoped>\n",
       "    .dataframe tbody tr th:only-of-type {\n",
       "        vertical-align: middle;\n",
       "    }\n",
       "\n",
       "    .dataframe tbody tr th {\n",
       "        vertical-align: top;\n",
       "    }\n",
       "\n",
       "    .dataframe thead th {\n",
       "        text-align: right;\n",
       "    }\n",
       "</style>\n",
       "<table border=\"1\" class=\"dataframe\">\n",
       "  <thead>\n",
       "    <tr style=\"text-align: right;\">\n",
       "      <th></th>\n",
       "      <th>m1</th>\n",
       "      <th>m2</th>\n",
       "      <th>m3</th>\n",
       "      <th>m4</th>\n",
       "      <th>m5</th>\n",
       "      <th>m6</th>\n",
       "      <th>repository</th>\n",
       "      <th>version</th>\n",
       "      <th>ncloc</th>\n",
       "      <th>code_quality</th>\n",
       "      <th>testing_status</th>\n",
       "      <th>Maintainability</th>\n",
       "      <th>Reliability</th>\n",
       "      <th>total</th>\n",
       "    </tr>\n",
       "  </thead>\n",
       "  <tbody>\n",
       "    <tr>\n",
       "      <th>0</th>\n",
       "      <td>0.833333</td>\n",
       "      <td>0.0</td>\n",
       "      <td>0.944444</td>\n",
       "      <td>0</td>\n",
       "      <td>0</td>\n",
       "      <td>0.375000</td>\n",
       "      <td>fga-eps-mds-2022.1-EuPescador-Web</td>\n",
       "      <td>main</td>\n",
       "      <td>58346</td>\n",
       "      <td>0.586667</td>\n",
       "      <td>0.187500</td>\n",
       "      <td>0.293333</td>\n",
       "      <td>0.093750</td>\n",
       "      <td>0.387083</td>\n",
       "    </tr>\n",
       "    <tr>\n",
       "      <th>1</th>\n",
       "      <td>0.828571</td>\n",
       "      <td>0.0</td>\n",
       "      <td>0.942857</td>\n",
       "      <td>0</td>\n",
       "      <td>0</td>\n",
       "      <td>0.285714</td>\n",
       "      <td>fga-eps-mds-2022.1-EuPescador-Web</td>\n",
       "      <td>v1.5.0</td>\n",
       "      <td>7200</td>\n",
       "      <td>0.584571</td>\n",
       "      <td>0.142857</td>\n",
       "      <td>0.292286</td>\n",
       "      <td>0.071429</td>\n",
       "      <td>0.363714</td>\n",
       "    </tr>\n",
       "    <tr>\n",
       "      <th>2</th>\n",
       "      <td>0.828571</td>\n",
       "      <td>0.0</td>\n",
       "      <td>0.942857</td>\n",
       "      <td>0</td>\n",
       "      <td>0</td>\n",
       "      <td>0.400000</td>\n",
       "      <td>fga-eps-mds-2022.1-EuPescador-Web</td>\n",
       "      <td>v1.6.0</td>\n",
       "      <td>7142</td>\n",
       "      <td>0.584571</td>\n",
       "      <td>0.200000</td>\n",
       "      <td>0.292286</td>\n",
       "      <td>0.100000</td>\n",
       "      <td>0.392286</td>\n",
       "    </tr>\n",
       "  </tbody>\n",
       "</table>\n",
       "</div>"
      ],
      "text/plain": [
       "         m1   m2        m3  m4  m5        m6  \\\n",
       "0  0.833333  0.0  0.944444   0   0  0.375000   \n",
       "1  0.828571  0.0  0.942857   0   0  0.285714   \n",
       "2  0.828571  0.0  0.942857   0   0  0.400000   \n",
       "\n",
       "                          repository version  ncloc  code_quality  \\\n",
       "0  fga-eps-mds-2022.1-EuPescador-Web    main  58346      0.586667   \n",
       "1  fga-eps-mds-2022.1-EuPescador-Web  v1.5.0   7200      0.584571   \n",
       "2  fga-eps-mds-2022.1-EuPescador-Web  v1.6.0   7142      0.584571   \n",
       "\n",
       "   testing_status  Maintainability  Reliability     total  \n",
       "0        0.187500         0.293333     0.093750  0.387083  \n",
       "1        0.142857         0.292286     0.071429  0.363714  \n",
       "2        0.200000         0.292286     0.100000  0.392286  "
      ]
     },
     "execution_count": 91,
     "metadata": {},
     "output_type": "execute_result"
    }
   ],
   "source": [
    "repo2"
   ]
  },
  {
   "cell_type": "code",
   "execution_count": 92,
   "metadata": {
    "pycharm": {
     "name": "#%%\n"
    }
   },
   "outputs": [
    {
     "data": {
      "text/plain": [
       "(0.1, 1.1)"
      ]
     },
     "execution_count": 92,
     "metadata": {},
     "output_type": "execute_result"
    },
    {
     "data": {
      "image/png": "[encoded data removed]",
      "text/plain": [
       "<Figure size 432x288 with 1 Axes>"
      ]
     },
     "metadata": {
      "needs_background": "light"
     },
     "output_type": "display_data"
    }
   ],
   "source": [
    "plt.plot(repo2['Maintainability'], linewidth=3, marker='o', markersize=5)\n",
    "plt.plot(repo2['Reliability'], linewidth=3, marker='*', markersize=5)\n",
    "plt.plot(repo2['total'], linewidth=3, marker='X', markersize=5)\n",
    "\n",
    "plt.ylim(0.1,1.1)\n"
   ]
  },
  {
   "cell_type": "code",
   "execution_count": 93,
   "metadata": {
    "pycharm": {
     "name": "#%%\n"
    }
   },
   "outputs": [
    {
     "data": {
      "text/html": [
       "<div>\n",
       "<style scoped>\n",
       "    .dataframe tbody tr th:only-of-type {\n",
       "        vertical-align: middle;\n",
       "    }\n",
       "\n",
       "    .dataframe tbody tr th {\n",
       "        vertical-align: top;\n",
       "    }\n",
       "\n",
       "    .dataframe thead th {\n",
       "        text-align: right;\n",
       "    }\n",
       "</style>\n",
       "<table border=\"1\" class=\"dataframe\">\n",
       "  <thead>\n",
       "    <tr style=\"text-align: right;\">\n",
       "      <th></th>\n",
       "      <th>m1</th>\n",
       "      <th>m2</th>\n",
       "      <th>m3</th>\n",
       "      <th>m4</th>\n",
       "      <th>m5</th>\n",
       "      <th>m6</th>\n",
       "      <th>repository</th>\n",
       "      <th>version</th>\n",
       "      <th>ncloc</th>\n",
       "      <th>code_quality</th>\n",
       "      <th>testing_status</th>\n",
       "      <th>Maintainability</th>\n",
       "      <th>Reliability</th>\n",
       "      <th>total</th>\n",
       "    </tr>\n",
       "  </thead>\n",
       "  <tbody>\n",
       "    <tr>\n",
       "      <th>0</th>\n",
       "      <td>0.5</td>\n",
       "      <td>0.125</td>\n",
       "      <td>1.0</td>\n",
       "      <td>0</td>\n",
       "      <td>0</td>\n",
       "      <td>0.375</td>\n",
       "      <td>fga-eps-mds-2022.1-EuPescador-FishWiki</td>\n",
       "      <td>v1.2.0</td>\n",
       "      <td>772</td>\n",
       "      <td>0.53625</td>\n",
       "      <td>0.1875</td>\n",
       "      <td>0.268125</td>\n",
       "      <td>0.09375</td>\n",
       "      <td>0.361875</td>\n",
       "    </tr>\n",
       "  </tbody>\n",
       "</table>\n",
       "</div>"
      ],
      "text/plain": [
       "    m1     m2   m3  m4  m5     m6                              repository  \\\n",
       "0  0.5  0.125  1.0   0   0  0.375  fga-eps-mds-2022.1-EuPescador-FishWiki   \n",
       "\n",
       "  version  ncloc  code_quality  testing_status  Maintainability  Reliability  \\\n",
       "0  v1.2.0    772       0.53625          0.1875         0.268125      0.09375   \n",
       "\n",
       "      total  \n",
       "0  0.361875  "
      ]
     },
     "execution_count": 93,
     "metadata": {},
     "output_type": "execute_result"
    }
   ],
   "source": [
    "repo3"
   ]
  },
  {
   "cell_type": "code",
   "execution_count": 94,
   "metadata": {
    "pycharm": {
     "name": "#%%\n"
    }
   },
   "outputs": [
    {
     "data": {
      "text/plain": [
       "(0.1, 1.1)"
      ]
     },
     "execution_count": 94,
     "metadata": {},
     "output_type": "execute_result"
    },
    {
     "data": {
      "image/png": "[encoded data removed]",
      "text/plain": [
       "<Figure size 432x288 with 1 Axes>"
      ]
     },
     "metadata": {
      "needs_background": "light"
     },
     "output_type": "display_data"
    }
   ],
   "source": [
    "plt.plot(repo3['Maintainability'], linewidth=3, marker='o', markersize=5)\n",
    "plt.plot(repo3['Reliability'], linewidth=3, marker='*', markersize=5)\n",
    "plt.plot(repo3['total'], linewidth=3, marker='X', markersize=5)\n",
    "\n",
    "plt.ylim(0.1,1.1)\n"
   ]
  },
  {
   "cell_type": "code",
   "execution_count": 95,
   "metadata": {
    "pycharm": {
     "name": "#%%\n"
    }
   },
   "outputs": [
    {
     "data": {
      "text/html": [
       "<div>\n",
       "<style scoped>\n",
       "    .dataframe tbody tr th:only-of-type {\n",
       "        vertical-align: middle;\n",
       "    }\n",
       "\n",
       "    .dataframe tbody tr th {\n",
       "        vertical-align: top;\n",
       "    }\n",
       "\n",
       "    .dataframe thead th {\n",
       "        text-align: right;\n",
       "    }\n",
       "</style>\n",
       "<table border=\"1\" class=\"dataframe\">\n",
       "  <thead>\n",
       "    <tr style=\"text-align: right;\">\n",
       "      <th></th>\n",
       "      <th>m1</th>\n",
       "      <th>m2</th>\n",
       "      <th>m3</th>\n",
       "      <th>m4</th>\n",
       "      <th>m5</th>\n",
       "      <th>m6</th>\n",
       "      <th>repository</th>\n",
       "      <th>version</th>\n",
       "      <th>ncloc</th>\n",
       "      <th>code_quality</th>\n",
       "      <th>testing_status</th>\n",
       "      <th>Maintainability</th>\n",
       "      <th>Reliability</th>\n",
       "      <th>total</th>\n",
       "    </tr>\n",
       "  </thead>\n",
       "  <tbody>\n",
       "    <tr>\n",
       "      <th>0</th>\n",
       "      <td>0.555556</td>\n",
       "      <td>0.111111</td>\n",
       "      <td>0.888889</td>\n",
       "      <td>0</td>\n",
       "      <td>0</td>\n",
       "      <td>0.444444</td>\n",
       "      <td>fga-eps-mds-2022.1-EuPescador-FishLog</td>\n",
       "      <td>v2.3.0</td>\n",
       "      <td>1048</td>\n",
       "      <td>0.513333</td>\n",
       "      <td>0.222222</td>\n",
       "      <td>0.256667</td>\n",
       "      <td>0.111111</td>\n",
       "      <td>0.367778</td>\n",
       "    </tr>\n",
       "    <tr>\n",
       "      <th>1</th>\n",
       "      <td>0.555556</td>\n",
       "      <td>0.111111</td>\n",
       "      <td>0.888889</td>\n",
       "      <td>0</td>\n",
       "      <td>0</td>\n",
       "      <td>0.444444</td>\n",
       "      <td>fga-eps-mds-2022.1-EuPescador-FishLog</td>\n",
       "      <td>v2.4.0</td>\n",
       "      <td>1054</td>\n",
       "      <td>0.513333</td>\n",
       "      <td>0.222222</td>\n",
       "      <td>0.256667</td>\n",
       "      <td>0.111111</td>\n",
       "      <td>0.367778</td>\n",
       "    </tr>\n",
       "  </tbody>\n",
       "</table>\n",
       "</div>"
      ],
      "text/plain": [
       "         m1        m2        m3  m4  m5        m6  \\\n",
       "0  0.555556  0.111111  0.888889   0   0  0.444444   \n",
       "1  0.555556  0.111111  0.888889   0   0  0.444444   \n",
       "\n",
       "                              repository version  ncloc  code_quality  \\\n",
       "0  fga-eps-mds-2022.1-EuPescador-FishLog  v2.3.0   1048      0.513333   \n",
       "1  fga-eps-mds-2022.1-EuPescador-FishLog  v2.4.0   1054      0.513333   \n",
       "\n",
       "   testing_status  Maintainability  Reliability     total  \n",
       "0        0.222222         0.256667     0.111111  0.367778  \n",
       "1        0.222222         0.256667     0.111111  0.367778  "
      ]
     },
     "execution_count": 95,
     "metadata": {},
     "output_type": "execute_result"
    }
   ],
   "source": [
    "repo4"
   ]
  },
  {
   "cell_type": "code",
   "execution_count": 96,
   "metadata": {
    "pycharm": {
     "name": "#%%\n"
    }
   },
   "outputs": [
    {
     "data": {
      "text/plain": [
       "(0.1, 1.1)"
      ]
     },
     "execution_count": 96,
     "metadata": {},
     "output_type": "execute_result"
    },
    {
     "data": {
      "image/png": "[encoded data removed]",
      "text/plain": [
       "<Figure size 432x288 with 1 Axes>"
      ]
     },
     "metadata": {
      "needs_background": "light"
     },
     "output_type": "display_data"
    }
   ],
   "source": [
    "plt.plot(repo4['Maintainability'], linewidth=3, marker='o', markersize=5)\n",
    "plt.plot(repo4['Reliability'], linewidth=3, marker='*', markersize=5)\n",
    "plt.plot(repo4['total'], linewidth=3, marker='X', markersize=5)\n",
    "\n",
    "plt.ylim(0.1,1.1)\n"
   ]
  },
  {
   "cell_type": "code",
   "execution_count": 97,
   "metadata": {
    "pycharm": {
     "name": "#%%\n"
    }
   },
   "outputs": [
    {
     "data": {
      "text/html": [
       "<div>\n",
       "<style scoped>\n",
       "    .dataframe tbody tr th:only-of-type {\n",
       "        vertical-align: middle;\n",
       "    }\n",
       "\n",
       "    .dataframe tbody tr th {\n",
       "        vertical-align: top;\n",
       "    }\n",
       "\n",
       "    .dataframe thead th {\n",
       "        text-align: right;\n",
       "    }\n",
       "</style>\n",
       "<table border=\"1\" class=\"dataframe\">\n",
       "  <thead>\n",
       "    <tr style=\"text-align: right;\">\n",
       "      <th></th>\n",
       "      <th>m1</th>\n",
       "      <th>m2</th>\n",
       "      <th>m3</th>\n",
       "      <th>m4</th>\n",
       "      <th>m5</th>\n",
       "      <th>m6</th>\n",
       "      <th>repository</th>\n",
       "      <th>version</th>\n",
       "      <th>ncloc</th>\n",
       "      <th>code_quality</th>\n",
       "      <th>testing_status</th>\n",
       "      <th>Maintainability</th>\n",
       "      <th>Reliability</th>\n",
       "      <th>total</th>\n",
       "    </tr>\n",
       "  </thead>\n",
       "  <tbody>\n",
       "    <tr>\n",
       "      <th>0</th>\n",
       "      <td>0.666667</td>\n",
       "      <td>0.0</td>\n",
       "      <td>1.0</td>\n",
       "      <td>0</td>\n",
       "      <td>0</td>\n",
       "      <td>0.333333</td>\n",
       "      <td>fga-eps-mds-2022.1-EuPescador-User</td>\n",
       "      <td>v2.4.1</td>\n",
       "      <td>1215</td>\n",
       "      <td>0.55</td>\n",
       "      <td>0.166667</td>\n",
       "      <td>0.275</td>\n",
       "      <td>0.083333</td>\n",
       "      <td>0.358333</td>\n",
       "    </tr>\n",
       "  </tbody>\n",
       "</table>\n",
       "</div>"
      ],
      "text/plain": [
       "         m1   m2   m3  m4  m5        m6                          repository  \\\n",
       "0  0.666667  0.0  1.0   0   0  0.333333  fga-eps-mds-2022.1-EuPescador-User   \n",
       "\n",
       "  version  ncloc  code_quality  testing_status  Maintainability  Reliability  \\\n",
       "0  v2.4.1   1215          0.55        0.166667            0.275     0.083333   \n",
       "\n",
       "      total  \n",
       "0  0.358333  "
      ]
     },
     "execution_count": 97,
     "metadata": {},
     "output_type": "execute_result"
    }
   ],
   "source": [
    "repo5"
   ]
  },
  {
   "cell_type": "code",
   "execution_count": 98,
   "metadata": {
    "pycharm": {
     "name": "#%%\n"
    }
   },
   "outputs": [
    {
     "data": {
      "text/plain": [
       "(0.1, 1.1)"
      ]
     },
     "execution_count": 98,
     "metadata": {},
     "output_type": "execute_result"
    },
    {
     "data": {
      "image/png": "[encoded data removed]",
      "text/plain": [
       "<Figure size 432x288 with 1 Axes>"
      ]
     },
     "metadata": {
      "needs_background": "light"
     },
     "output_type": "display_data"
    }
   ],
   "source": [
    "plt.plot(repo5['Maintainability'], linewidth=3, marker='o', markersize=5)\n",
    "plt.plot(repo5['Reliability'], linewidth=3, marker='*', markersize=5)\n",
    "plt.plot(repo5['total'], linewidth=3, marker='X', markersize=5)\n",
    "\n",
    "plt.ylim(0.1,1.1)\n"
   ]
  },
  {
   "cell_type": "markdown",
   "metadata": {},
   "source": [
    "### You must do the total plot and the statics analysis for the repository with more versions."
   ]
  },
  {
   "cell_type": "code",
   "execution_count": 111,
   "metadata": {
    "pycharm": {
     "name": "#%%\n"
    }
   },
   "outputs": [],
   "source": [
    "# Building descriptive statistics dataframe. You must replace YourRepoName for your repository name with more product versions.\n",
    "\n",
    "metrics_df = pd.concat([repo1, repo2,repo3,repo4,repo5], ignore_index=True)\n",
    "\n",
    "more_versions_repo = metrics_df[metrics_df['repository'] == 'fga-eps-mds-2022.1-EuPescador-UserInterface']\n",
    "\n",
    "def get_characteristc_stats(repo_series):\n",
    "    return {\n",
    "        'mean': repo_series.mean(),\n",
    "        'mode': repo_series.mode(),\n",
    "        'median': repo_series.median(),\n",
    "        'std': repo_series.std(),\n",
    "        'var': repo_series.var(),\n",
    "        'min': repo_series.min(),\n",
    "        'max': repo_series.max()\n",
    "    }\n",
    "\n",
    "maintainability_stats = pd.DataFrame(get_characteristc_stats(more_versions_repo[\"Maintainability\"]),\n",
    "                                     columns=['mean', 'mode', 'median', 'std', 'var', 'min', 'max'])\n",
    "\n",
    "reliability_stats = pd.DataFrame(get_characteristc_stats(more_versions_repo[\"Reliability\"]),\n",
    "                                 columns=['mean', 'mode', 'median', 'std', 'var', 'min', 'max'])"
   ]
  },
  {
   "cell_type": "code",
   "execution_count": 112,
   "metadata": {
    "pycharm": {
     "name": "#%%\n"
    }
   },
   "outputs": [
    {
     "name": "stdout",
     "output_type": "stream",
     "text": [
      "       mean      mode    median       std       var       min       max\n",
      "0  0.284258  0.286324  0.284798  0.002543  0.000006  0.281111  0.286324\n"
     ]
    }
   ],
   "source": [
    "print(maintainability_stats)"
   ]
  },
  {
   "cell_type": "code",
   "execution_count": 113,
   "metadata": {
    "pycharm": {
     "name": "#%%\n"
    }
   },
   "outputs": [
    {
     "name": "stdout",
     "output_type": "stream",
     "text": [
      "       mean  mode  median       std       var  min       max\n",
      "0  0.000762   0.0     0.0  0.001524  0.000002  0.0  0.003049\n"
     ]
    }
   ],
   "source": [
    "print(reliability_stats)"
   ]
  },
  {
   "cell_type": "markdown",
   "metadata": {},
   "source": [
    "### Plotting the aggregated quality characteristic indicator"
   ]
  },
  {
   "cell_type": "code",
   "execution_count": 114,
   "metadata": {
    "pycharm": {
     "name": "#%%\n"
    }
   },
   "outputs": [
    {
     "data": {
      "text/plain": [
       "{'whiskers': [<matplotlib.lines.Line2D at 0x7fb774d68b70>,\n",
       "  <matplotlib.lines.Line2D at 0x7fb774d68f28>,\n",
       "  <matplotlib.lines.Line2D at 0x7fb774d00358>,\n",
       "  <matplotlib.lines.Line2D at 0x7fb774d006a0>],\n",
       " 'caps': [<matplotlib.lines.Line2D at 0x7fb774cf42b0>,\n",
       "  <matplotlib.lines.Line2D at 0x7fb774cf45f8>,\n",
       "  <matplotlib.lines.Line2D at 0x7fb774d009e8>,\n",
       "  <matplotlib.lines.Line2D at 0x7fb774d00d30>],\n",
       " 'boxes': [<matplotlib.lines.Line2D at 0x7fb774d68a20>,\n",
       "  <matplotlib.lines.Line2D at 0x7fb774cf4f98>],\n",
       " 'medians': [<matplotlib.lines.Line2D at 0x7fb774cf4940>,\n",
       "  <matplotlib.lines.Line2D at 0x7fb774d0b0b8>],\n",
       " 'fliers': [<matplotlib.lines.Line2D at 0x7fb774cf4c88>,\n",
       "  <matplotlib.lines.Line2D at 0x7fb774d0b400>],\n",
       " 'means': []}"
      ]
     },
     "execution_count": 114,
     "metadata": {},
     "output_type": "execute_result"
    },
    {
     "data": {
      "image/png": "[encoded data removed]",
      "text/plain": [
       "<Figure size 1440x720 with 1 Axes>"
      ]
     },
     "metadata": {
      "needs_background": "light"
     },
     "output_type": "display_data"
    }
   ],
   "source": [
    "plt.figure(figsize=(20, 10))\n",
    "\n",
    "# boxplot\n",
    "plt.boxplot([more_versions_repo['Maintainability'], more_versions_repo['Reliability']],\n",
    "labels=['Maintainability', 'Reliability'])"
   ]
  },
  {
   "cell_type": "markdown",
   "metadata": {},
   "source": [
    "### Plotting the aggregated repository quality indicator"
   ]
  },
  {
   "cell_type": "code",
   "execution_count": 115,
   "metadata": {
    "pycharm": {
     "name": "#%%\n"
    }
   },
   "outputs": [
    {
     "data": {
      "text/plain": [
       "(0.1, 1)"
      ]
     },
     "execution_count": 115,
     "metadata": {},
     "output_type": "execute_result"
    },
    {
     "data": {
      "image/png": "[encoded data removed]",
      "text/plain": [
       "<Figure size 432x288 with 1 Axes>"
      ]
     },
     "metadata": {
      "needs_background": "light"
     },
     "output_type": "display_data"
    }
   ],
   "source": [
    "plt.plot(more_versions_repo['total'], linewidth=3, marker='o', markersize=5)\n",
    "\n",
    "plt.ylim(.1,1)"
   ]
  },
  {
   "cell_type": "markdown",
   "metadata": {},
   "source": []
  },
  {
   "cell_type": "code",
   "execution_count": 120,
   "metadata": {},
   "outputs": [],
   "source": [
    "# DATE FORMAT: MM-DD-YYYY-HH:MM:SS\n",
    "currentDateTime = datetime.datetime.now().strftime(\"%m-%d-%Y-%H:%M:%S\")\n",
    "\n",
    "metrics_df.to_excel('./fga-eps-mds-2022-1-UserInterface-{}.xlsx'.format(currentDateTime), index = False)\n",
    "\n",
    "metrics_df.to_csv('./fga-eps-mds-2022-1-UserInterface-{}.csv'.format(currentDateTime), index = False)"
   ]
  },
  {
   "cell_type": "code",
   "execution_count": null,
   "metadata": {},
   "outputs": [],
   "source": []
  }
 ],
 "metadata": {
  "kernelspec": {
   "display_name": "Python 3",
   "language": "python",
   "name": "python3"
  },
  "language_info": {
   "codemirror_mode": {
    "name": "ipython",
    "version": 3
   },
   "file_extension": ".py",
   "mimetype": "text/x-python",
   "name": "python",
   "nbconvert_exporter": "python",
   "pygments_lexer": "ipython3",
   "version": "3.6.9"
  }
 },
 "nbformat": 4,
 "nbformat_minor": 4
}
